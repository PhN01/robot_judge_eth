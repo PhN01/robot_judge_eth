{
 "cells": [
  {
   "cell_type": "markdown",
   "metadata": {},
   "source": [
    "# Building a Robot Judge\n",
    "## ETH Zurich, Spring 2019\n",
    "\n",
    "## Problem Set 1: Extra Credit\n",
    "\n",
    "Author: Philipp Nikolaus"
   ]
  },
  {
   "cell_type": "markdown",
   "metadata": {},
   "source": [
    "## 1. Environment"
   ]
  },
  {
   "cell_type": "code",
   "execution_count": 12,
   "metadata": {
    "collapsed": false
   },
   "outputs": [],
   "source": [
    "from typing import Dict, List, Tuple\n",
    "\n",
    "import pandas as pd\n",
    "import numpy as np\n",
    "import os\n",
    "from tqdm import tqdm\n",
    "tqdm.pandas()\n",
    "import random\n",
    "\n",
    "import spacy\n",
    "\n",
    "from sklearn.feature_extraction.text import CountVectorizer"
   ]
  },
  {
   "cell_type": "markdown",
   "metadata": {},
   "source": [
    "## 2. get_transformation(D_1, D_2)"
   ]
  },
  {
   "cell_type": "code",
   "execution_count": 73,
   "metadata": {},
   "outputs": [],
   "source": [
    "def get_transformation(D_1: pd.DataFrame, D_2: pd.DataFrame) -> Tuple[List[str], np.ndarray, np.ndarray]:\n",
    "\n",
    "    ## getting the length of the two input matrices D1 and D2. these will be used as n_row when creating the\n",
    "    ## transformation matrices.\n",
    "    n_1 = len(D_1)\n",
    "    \n",
    "    ## extracting the features from each matrix and creating a joint dictionary\n",
    "    cols_1 = list(D_1.columns)\n",
    "    cols_2 = list(D_2.columns)\n",
    "\n",
    "    m_1 = len(cols_1)\n",
    "    m_2 = len(cols_2)\n",
    "\n",
    "    ## let's define the new feature space\n",
    "    cols_3 = list(set(cols_1) | set(cols_2))\n",
    "    cols_3.sort()\n",
    "\n",
    "    m_3 = len(cols_3)\n",
    "    \n",
    "    ## for each of the matrices, creating a list of all features that are missing the matrix compared to the joint\n",
    "    ## dictionary\n",
    "    T_1 = np.zeros((m_1, m_3))\n",
    "    T_1[np.arange(m_1),[cols_3.index(col) for col in cols_1]] = 1\n",
    "\n",
    "    T_2 = np.zeros((m_2, m_3))\n",
    "    T_2[np.arange(m_2),[cols_3.index(col) for col in cols_2]] = 1\n",
    "\n",
    "    return cols_3, T_1, T_2"
   ]
  },
  {
   "cell_type": "code",
   "execution_count": 80,
   "metadata": {
    "collapsed": true
   },
   "outputs": [],
   "source": [
    "def transform(D_1: pd.DataFrame, D_2: pd.DataFrame) -> Tuple[pd.DataFrame, pd.DataFrame]:\n",
    "    \n",
    "    cols_3, T_1, T_2 = get_transformation(D_1, D_2)\n",
    "\n",
    "    D_1_p = pd.DataFrame(\n",
    "        np.matmul(D_1.values, T_),\n",
    "        index=D_1.index,\n",
    "        columns=cols_3\n",
    "    )\n",
    "    D_2_p = pd.DataFrame(\n",
    "        np.matmul(D_2.values, T_2),\n",
    "        index=D_2.index,\n",
    "        columns=cols_3\n",
    "    )\n",
    "\n",
    "    \n",
    "    return D_1_p, D_2_p"
   ]
  },
  {
   "cell_type": "markdown",
   "metadata": {},
   "source": [
    "## 3. cosine_sim(D_1, D_2)"
   ]
  },
  {
   "cell_type": "code",
   "execution_count": 85,
   "metadata": {
    "collapsed": true
   },
   "outputs": [],
   "source": [
    "def cosine_sim(D_1, D_2):\n",
    "    \n",
    "    D_1_p, D_2_p = transform(D_1, D_2)\n",
    "    ## converting matrix 1 to a numpy array\n",
    "    D_1_p = D_1_p.values\n",
    "    D_1_p_norm = np.linalg.norm(D_1_p, axis=1)\n",
    "    ## reordering to columns of matrix 2 to match the order of matrix 1 and coverting to a numpy array\n",
    "    D_2_p = D_2_p.values\n",
    "    D_2_p_norm = np.linalg.norm(D_2_p, axis=1)\n",
    "    \n",
    "    ## the remaining steps comprise the calculation of cosine similarity according to its definition\n",
    "\n",
    "    cos_sim = np.divide(\n",
    "        np.matmul(\n",
    "            D_1_p, D_2_p.transpose()\n",
    "        ),\n",
    "        np.matmul(\n",
    "            D_1_p_norm.reshape(D_1_p_norm.size, 1),\n",
    "            D_2_p_norm.transpose().reshape(1, D_2_p_norm.size)\n",
    "        )\n",
    "    )\n",
    "    \n",
    "    return cos_sim"
   ]
  },
  {
   "cell_type": "markdown",
   "metadata": {},
   "source": [
    "## 4. Example\n",
    "\n",
    "Based on the data provided for exercise 1.\n",
    "\n",
    "### 4.1 Data Prep"
   ]
  },
  {
   "cell_type": "code",
   "execution_count": 9,
   "metadata": {
    "collapsed": true
   },
   "outputs": [],
   "source": [
    "n_samples = 10\n",
    "\n",
    "cases = os.listdir('./data/cases')"
   ]
  },
  {
   "cell_type": "code",
   "execution_count": 10,
   "metadata": {
    "collapsed": false,
    "tags": []
   },
   "outputs": [
    {
     "output_type": "stream",
     "name": "stderr",
     "text": "5762it [00:05, 973.48it/s]\n"
    }
   ],
   "source": [
    "data = {}\n",
    "\n",
    "for i, case in tqdm(enumerate(cases)):\n",
    "    case_id = case[5:].replace('.txt','')\n",
    "    data[case_id] = {\n",
    "        \"filename\": case,\n",
    "        \"year\": int(case[:4]),\n",
    "        \"doc_raw\": open(os.path.join(\"./data/cases\",case),\"r\").read()\n",
    "    }\n",
    "df = pd.DataFrame.from_dict(data, orient=\"index\")"
   ]
  },
  {
   "cell_type": "code",
   "execution_count": 13,
   "metadata": {
    "collapsed": true
   },
   "outputs": [],
   "source": [
    "# take a sample of the data\n",
    "data_1 = {key: data[key] for key in random.sample(data.keys(), k=n_samples)}\n",
    "data_2 = {key: data[key] for key in random.sample(data.keys(), k=n_samples)}"
   ]
  },
  {
   "cell_type": "code",
   "execution_count": 16,
   "metadata": {
    "collapsed": true
   },
   "outputs": [],
   "source": [
    "## definition of additional steps for nlp-pipeline\n",
    "\n",
    "def replace_num(doc):\n",
    "    doc = [\"NUMBER\" if token.like_num else token.text for token in doc]\n",
    "    doc = ' '.join(doc)\n",
    "    return nlp.make_doc(doc)\n",
    "\n",
    "def filter_words(doc):\n",
    "    doc = [token.text for i,token in enumerate(doc) if not token.is_punct and not token.is_space]\n",
    "    doc = ' '.join(doc)\n",
    "    return nlp.make_doc(doc)"
   ]
  },
  {
   "cell_type": "code",
   "execution_count": 17,
   "metadata": {
    "collapsed": false,
    "tags": []
   },
   "outputs": [
    {
     "output_type": "stream",
     "name": "stdout",
     "text": "['replace_num', 'filter_words', 'tagger', 'parser', 'ner']\n"
    }
   ],
   "source": [
    "## loading of nlp object and addition of new steps (above) to pipeline\n",
    "\n",
    "nlp = spacy.load('en_core_web_sm')\n",
    "\n",
    "nlp.add_pipe(replace_num, name='replace_num', first=True)\n",
    "nlp.add_pipe(filter_words, name='filter_words', after='replace_num')\n",
    "\n",
    "print(nlp.pipe_names)"
   ]
  },
  {
   "cell_type": "code",
   "execution_count": 19,
   "metadata": {
    "collapsed": false
   },
   "outputs": [],
   "source": [
    "## processing of raw documents through nlp pipeline\n",
    "\n",
    "for case_id, case in data_1.items():\n",
    "    doc = nlp(case[\"doc_raw\"])\n",
    "    data_1[case_id][\"doc_spacy\"] = doc\n",
    "    data_1[case_id][\"doc_clean\"] = \" \".join([token.lemma_ for token in doc])\n",
    "\n",
    "for case_id, case in data_2.items():\n",
    "    doc = nlp(case[\"doc_raw\"])\n",
    "    data_2[case_id][\"doc_spacy\"] = doc\n",
    "    data_2[case_id][\"doc_clean\"] = \" \".join([token.lemma_ for token in doc])"
   ]
  },
  {
   "cell_type": "markdown",
   "metadata": {},
   "source": [
    "### 4.2. Count Vectorizer"
   ]
  },
  {
   "cell_type": "code",
   "execution_count": 20,
   "metadata": {},
   "outputs": [],
   "source": [
    "class DenseCountVectorizer(CountVectorizer):\n",
    "\n",
    "    def transform(self, docs, copy=True):\n",
    "        X = super().transform(docs, copy=copy)\n",
    "        df = pd.DataFrame(X.toarray(), columns=self.get_feature_names())\n",
    "        return df\n",
    "\n",
    "    def fit_transform(self, docs, y=None):\n",
    "        X = super().fit_transform(docs, y=y)\n",
    "        df = pd.DataFrame(X.toarray(), columns=self.get_feature_names())\n",
    "        return df"
   ]
  },
  {
   "cell_type": "code",
   "execution_count": 54,
   "metadata": {},
   "outputs": [
    {
     "output_type": "execute_result",
     "data": {
      "text/plain": "   0348  10  10th  111  1182  11th  12  1427  15  158  ...  writing  written  \\\n0     0   0     0    0     0     0   0     0   0    2  ...        0        0   \n1     0   0     0    0     0     0   0     0   0    0  ...        0        0   \n2     0   0     0    0     0     0   0     1   0    0  ...        0        0   \n3     1   0     0    0     0     0   0     0   0    0  ...        0        1   \n4     0   0     2    0     1    22   0     0   0    0  ...        0        0   \n5     0   4     0    0     0     0   0     0   0    0  ...        0        0   \n6     0   0     0    0     0     0   0     0   2    0  ...        0        0   \n7     0   0     0    0     0     0   0     0   0    0  ...        0        0   \n8     0   0     0    1     0    11   4     0   0    0  ...        0        0   \n9     0   0     1    0     0     0   0     0   0    0  ...        1        0   \n\n   wrong  wrongfully  wyandotte  year  yet  york  young  zayre  \n0      0           0          0     0    0     0      0      2  \n1      0           0          0     2    0     0      0      0  \n2      0           0          0     5    0     0      0      0  \n3      1           0          0     1    0     0      1      0  \n4      0           1          3     0    3     2      0      0  \n5      0           0          0     1    3     2      0      0  \n6      0           0          0     0    0     0      0      0  \n7      0           0          0     4    0     0      0      0  \n8      1           0          0    14    0     0      0      0  \n9      0           0          0     9    0     0      0      0  \n\n[10 rows x 3193 columns]",
      "text/html": "<div>\n<style scoped>\n    .dataframe tbody tr th:only-of-type {\n        vertical-align: middle;\n    }\n\n    .dataframe tbody tr th {\n        vertical-align: top;\n    }\n\n    .dataframe thead th {\n        text-align: right;\n    }\n</style>\n<table border=\"1\" class=\"dataframe\">\n  <thead>\n    <tr style=\"text-align: right;\">\n      <th></th>\n      <th>0348</th>\n      <th>10</th>\n      <th>10th</th>\n      <th>111</th>\n      <th>1182</th>\n      <th>11th</th>\n      <th>12</th>\n      <th>1427</th>\n      <th>15</th>\n      <th>158</th>\n      <th>...</th>\n      <th>writing</th>\n      <th>written</th>\n      <th>wrong</th>\n      <th>wrongfully</th>\n      <th>wyandotte</th>\n      <th>year</th>\n      <th>yet</th>\n      <th>york</th>\n      <th>young</th>\n      <th>zayre</th>\n    </tr>\n  </thead>\n  <tbody>\n    <tr>\n      <th>0</th>\n      <td>0</td>\n      <td>0</td>\n      <td>0</td>\n      <td>0</td>\n      <td>0</td>\n      <td>0</td>\n      <td>0</td>\n      <td>0</td>\n      <td>0</td>\n      <td>2</td>\n      <td>...</td>\n      <td>0</td>\n      <td>0</td>\n      <td>0</td>\n      <td>0</td>\n      <td>0</td>\n      <td>0</td>\n      <td>0</td>\n      <td>0</td>\n      <td>0</td>\n      <td>2</td>\n    </tr>\n    <tr>\n      <th>1</th>\n      <td>0</td>\n      <td>0</td>\n      <td>0</td>\n      <td>0</td>\n      <td>0</td>\n      <td>0</td>\n      <td>0</td>\n      <td>0</td>\n      <td>0</td>\n      <td>0</td>\n      <td>...</td>\n      <td>0</td>\n      <td>0</td>\n      <td>0</td>\n      <td>0</td>\n      <td>0</td>\n      <td>2</td>\n      <td>0</td>\n      <td>0</td>\n      <td>0</td>\n      <td>0</td>\n    </tr>\n    <tr>\n      <th>2</th>\n      <td>0</td>\n      <td>0</td>\n      <td>0</td>\n      <td>0</td>\n      <td>0</td>\n      <td>0</td>\n      <td>0</td>\n      <td>1</td>\n      <td>0</td>\n      <td>0</td>\n      <td>...</td>\n      <td>0</td>\n      <td>0</td>\n      <td>0</td>\n      <td>0</td>\n      <td>0</td>\n      <td>5</td>\n      <td>0</td>\n      <td>0</td>\n      <td>0</td>\n      <td>0</td>\n    </tr>\n    <tr>\n      <th>3</th>\n      <td>1</td>\n      <td>0</td>\n      <td>0</td>\n      <td>0</td>\n      <td>0</td>\n      <td>0</td>\n      <td>0</td>\n      <td>0</td>\n      <td>0</td>\n      <td>0</td>\n      <td>...</td>\n      <td>0</td>\n      <td>1</td>\n      <td>1</td>\n      <td>0</td>\n      <td>0</td>\n      <td>1</td>\n      <td>0</td>\n      <td>0</td>\n      <td>1</td>\n      <td>0</td>\n    </tr>\n    <tr>\n      <th>4</th>\n      <td>0</td>\n      <td>0</td>\n      <td>2</td>\n      <td>0</td>\n      <td>1</td>\n      <td>22</td>\n      <td>0</td>\n      <td>0</td>\n      <td>0</td>\n      <td>0</td>\n      <td>...</td>\n      <td>0</td>\n      <td>0</td>\n      <td>0</td>\n      <td>1</td>\n      <td>3</td>\n      <td>0</td>\n      <td>3</td>\n      <td>2</td>\n      <td>0</td>\n      <td>0</td>\n    </tr>\n    <tr>\n      <th>5</th>\n      <td>0</td>\n      <td>4</td>\n      <td>0</td>\n      <td>0</td>\n      <td>0</td>\n      <td>0</td>\n      <td>0</td>\n      <td>0</td>\n      <td>0</td>\n      <td>0</td>\n      <td>...</td>\n      <td>0</td>\n      <td>0</td>\n      <td>0</td>\n      <td>0</td>\n      <td>0</td>\n      <td>1</td>\n      <td>3</td>\n      <td>2</td>\n      <td>0</td>\n      <td>0</td>\n    </tr>\n    <tr>\n      <th>6</th>\n      <td>0</td>\n      <td>0</td>\n      <td>0</td>\n      <td>0</td>\n      <td>0</td>\n      <td>0</td>\n      <td>0</td>\n      <td>0</td>\n      <td>2</td>\n      <td>0</td>\n      <td>...</td>\n      <td>0</td>\n      <td>0</td>\n      <td>0</td>\n      <td>0</td>\n      <td>0</td>\n      <td>0</td>\n      <td>0</td>\n      <td>0</td>\n      <td>0</td>\n      <td>0</td>\n    </tr>\n    <tr>\n      <th>7</th>\n      <td>0</td>\n      <td>0</td>\n      <td>0</td>\n      <td>0</td>\n      <td>0</td>\n      <td>0</td>\n      <td>0</td>\n      <td>0</td>\n      <td>0</td>\n      <td>0</td>\n      <td>...</td>\n      <td>0</td>\n      <td>0</td>\n      <td>0</td>\n      <td>0</td>\n      <td>0</td>\n      <td>4</td>\n      <td>0</td>\n      <td>0</td>\n      <td>0</td>\n      <td>0</td>\n    </tr>\n    <tr>\n      <th>8</th>\n      <td>0</td>\n      <td>0</td>\n      <td>0</td>\n      <td>1</td>\n      <td>0</td>\n      <td>11</td>\n      <td>4</td>\n      <td>0</td>\n      <td>0</td>\n      <td>0</td>\n      <td>...</td>\n      <td>0</td>\n      <td>0</td>\n      <td>1</td>\n      <td>0</td>\n      <td>0</td>\n      <td>14</td>\n      <td>0</td>\n      <td>0</td>\n      <td>0</td>\n      <td>0</td>\n    </tr>\n    <tr>\n      <th>9</th>\n      <td>0</td>\n      <td>0</td>\n      <td>1</td>\n      <td>0</td>\n      <td>0</td>\n      <td>0</td>\n      <td>0</td>\n      <td>0</td>\n      <td>0</td>\n      <td>0</td>\n      <td>...</td>\n      <td>1</td>\n      <td>0</td>\n      <td>0</td>\n      <td>0</td>\n      <td>0</td>\n      <td>9</td>\n      <td>0</td>\n      <td>0</td>\n      <td>0</td>\n      <td>0</td>\n    </tr>\n  </tbody>\n</table>\n<p>10 rows × 3193 columns</p>\n</div>"
     },
     "metadata": {},
     "execution_count": 54
    }
   ],
   "source": [
    "cvec = DenseCountVectorizer()\n",
    "D_1 = cvec.fit_transform([case[\"doc_clean\"] for case in data_1.values()])\n",
    "\n",
    "cvec = DenseCountVectorizer()\n",
    "D_2 = cvec.fit_transform([case[\"doc_clean\"] for case in data_2.values()])\n",
    "\n",
    "D_1.head(10)"
   ]
  },
  {
   "cell_type": "markdown",
   "metadata": {},
   "source": [
    "### 4.3 Test"
   ]
  },
  {
   "cell_type": "markdown",
   "metadata": {},
   "source": [
    "#### transform()"
   ]
  },
  {
   "cell_type": "code",
   "execution_count": 89,
   "metadata": {},
   "outputs": [],
   "source": [
    "D_1_p, D_2_p = transform(D_1, D_2)"
   ]
  },
  {
   "cell_type": "code",
   "execution_count": 90,
   "metadata": {
    "tags": []
   },
   "outputs": [
    {
     "output_type": "stream",
     "name": "stdout",
     "text": "Shape D_1 (10, 3193)\nShape D_1_p (10, 4387)\n\nShape D_2 (10, 2735)\nShape D_2_p (10, 4387)\n"
    }
   ],
   "source": [
    "print(\"Shape D_1\", D_1.shape)\n",
    "print(\"Shape D_1_p\", D_1_p.shape)\n",
    "print(\"\")\n",
    "print(\"Shape D_2\", D_2.shape)\n",
    "print(\"Shape D_2_p\", D_2_p.shape)"
   ]
  },
  {
   "cell_type": "code",
   "execution_count": 91,
   "metadata": {},
   "outputs": [
    {
     "output_type": "execute_result",
     "data": {
      "text/plain": "   10  10th  11th  120  124a  130  1343  1382  155  1623  ...  yale  year  \\\n0   0     0     0    0     0    0     0     0    0     0  ...     0     1   \n1   0     1     1    0     0    0     0     0    0     0  ...     0     2   \n2   0     0     0    0     0    0     0     0    0     0  ...     0     3   \n3   0     0     0    0     4    0     0     0    0     0  ...     1     1   \n4   0     0     0    0     0    0     0     0    0     0  ...     0     3   \n\n   yet  yield  yoder  york  young  yuginovich  zarate  zorach  \n0    0      1      0     0      0           0       0       0  \n1    0      0      0     0      0           0       0       0  \n2    0      0      0     0      0           1       0       0  \n3    2      0      0     1      0           0       0       0  \n4    0      0      0     0      0           0       0       0  \n\n[5 rows x 2735 columns]",
      "text/html": "<div>\n<style scoped>\n    .dataframe tbody tr th:only-of-type {\n        vertical-align: middle;\n    }\n\n    .dataframe tbody tr th {\n        vertical-align: top;\n    }\n\n    .dataframe thead th {\n        text-align: right;\n    }\n</style>\n<table border=\"1\" class=\"dataframe\">\n  <thead>\n    <tr style=\"text-align: right;\">\n      <th></th>\n      <th>10</th>\n      <th>10th</th>\n      <th>11th</th>\n      <th>120</th>\n      <th>124a</th>\n      <th>130</th>\n      <th>1343</th>\n      <th>1382</th>\n      <th>155</th>\n      <th>1623</th>\n      <th>...</th>\n      <th>yale</th>\n      <th>year</th>\n      <th>yet</th>\n      <th>yield</th>\n      <th>yoder</th>\n      <th>york</th>\n      <th>young</th>\n      <th>yuginovich</th>\n      <th>zarate</th>\n      <th>zorach</th>\n    </tr>\n  </thead>\n  <tbody>\n    <tr>\n      <th>0</th>\n      <td>0</td>\n      <td>0</td>\n      <td>0</td>\n      <td>0</td>\n      <td>0</td>\n      <td>0</td>\n      <td>0</td>\n      <td>0</td>\n      <td>0</td>\n      <td>0</td>\n      <td>...</td>\n      <td>0</td>\n      <td>1</td>\n      <td>0</td>\n      <td>1</td>\n      <td>0</td>\n      <td>0</td>\n      <td>0</td>\n      <td>0</td>\n      <td>0</td>\n      <td>0</td>\n    </tr>\n    <tr>\n      <th>1</th>\n      <td>0</td>\n      <td>1</td>\n      <td>1</td>\n      <td>0</td>\n      <td>0</td>\n      <td>0</td>\n      <td>0</td>\n      <td>0</td>\n      <td>0</td>\n      <td>0</td>\n      <td>...</td>\n      <td>0</td>\n      <td>2</td>\n      <td>0</td>\n      <td>0</td>\n      <td>0</td>\n      <td>0</td>\n      <td>0</td>\n      <td>0</td>\n      <td>0</td>\n      <td>0</td>\n    </tr>\n    <tr>\n      <th>2</th>\n      <td>0</td>\n      <td>0</td>\n      <td>0</td>\n      <td>0</td>\n      <td>0</td>\n      <td>0</td>\n      <td>0</td>\n      <td>0</td>\n      <td>0</td>\n      <td>0</td>\n      <td>...</td>\n      <td>0</td>\n      <td>3</td>\n      <td>0</td>\n      <td>0</td>\n      <td>0</td>\n      <td>0</td>\n      <td>0</td>\n      <td>1</td>\n      <td>0</td>\n      <td>0</td>\n    </tr>\n    <tr>\n      <th>3</th>\n      <td>0</td>\n      <td>0</td>\n      <td>0</td>\n      <td>0</td>\n      <td>4</td>\n      <td>0</td>\n      <td>0</td>\n      <td>0</td>\n      <td>0</td>\n      <td>0</td>\n      <td>...</td>\n      <td>1</td>\n      <td>1</td>\n      <td>2</td>\n      <td>0</td>\n      <td>0</td>\n      <td>1</td>\n      <td>0</td>\n      <td>0</td>\n      <td>0</td>\n      <td>0</td>\n    </tr>\n    <tr>\n      <th>4</th>\n      <td>0</td>\n      <td>0</td>\n      <td>0</td>\n      <td>0</td>\n      <td>0</td>\n      <td>0</td>\n      <td>0</td>\n      <td>0</td>\n      <td>0</td>\n      <td>0</td>\n      <td>...</td>\n      <td>0</td>\n      <td>3</td>\n      <td>0</td>\n      <td>0</td>\n      <td>0</td>\n      <td>0</td>\n      <td>0</td>\n      <td>0</td>\n      <td>0</td>\n      <td>0</td>\n    </tr>\n  </tbody>\n</table>\n<p>5 rows × 2735 columns</p>\n</div>"
     },
     "metadata": {},
     "execution_count": 91
    }
   ],
   "source": [
    "D_2.head()"
   ]
  },
  {
   "cell_type": "code",
   "execution_count": 92,
   "metadata": {},
   "outputs": [
    {
     "output_type": "execute_result",
     "data": {
      "text/plain": "   0348   10  10th  111  1182  11th   12  120  124a  130  ...  year  yet  \\\n0   0.0  0.0   0.0  0.0   0.0   0.0  0.0  0.0   0.0  0.0  ...   1.0  0.0   \n1   0.0  0.0   1.0  0.0   0.0   1.0  0.0  0.0   0.0  0.0  ...   2.0  0.0   \n2   0.0  0.0   0.0  0.0   0.0   0.0  0.0  0.0   0.0  0.0  ...   3.0  0.0   \n3   0.0  0.0   0.0  0.0   0.0   0.0  0.0  0.0   4.0  0.0  ...   1.0  2.0   \n4   0.0  0.0   0.0  0.0   0.0   0.0  0.0  0.0   0.0  0.0  ...   3.0  0.0   \n\n   yield  yoder  york  young  yuginovich  zarate  zayre  zorach  \n0    1.0    0.0   0.0    0.0         0.0     0.0    0.0     0.0  \n1    0.0    0.0   0.0    0.0         0.0     0.0    0.0     0.0  \n2    0.0    0.0   0.0    0.0         1.0     0.0    0.0     0.0  \n3    0.0    0.0   1.0    0.0         0.0     0.0    0.0     0.0  \n4    0.0    0.0   0.0    0.0         0.0     0.0    0.0     0.0  \n\n[5 rows x 4387 columns]",
      "text/html": "<div>\n<style scoped>\n    .dataframe tbody tr th:only-of-type {\n        vertical-align: middle;\n    }\n\n    .dataframe tbody tr th {\n        vertical-align: top;\n    }\n\n    .dataframe thead th {\n        text-align: right;\n    }\n</style>\n<table border=\"1\" class=\"dataframe\">\n  <thead>\n    <tr style=\"text-align: right;\">\n      <th></th>\n      <th>0348</th>\n      <th>10</th>\n      <th>10th</th>\n      <th>111</th>\n      <th>1182</th>\n      <th>11th</th>\n      <th>12</th>\n      <th>120</th>\n      <th>124a</th>\n      <th>130</th>\n      <th>...</th>\n      <th>year</th>\n      <th>yet</th>\n      <th>yield</th>\n      <th>yoder</th>\n      <th>york</th>\n      <th>young</th>\n      <th>yuginovich</th>\n      <th>zarate</th>\n      <th>zayre</th>\n      <th>zorach</th>\n    </tr>\n  </thead>\n  <tbody>\n    <tr>\n      <th>0</th>\n      <td>0.0</td>\n      <td>0.0</td>\n      <td>0.0</td>\n      <td>0.0</td>\n      <td>0.0</td>\n      <td>0.0</td>\n      <td>0.0</td>\n      <td>0.0</td>\n      <td>0.0</td>\n      <td>0.0</td>\n      <td>...</td>\n      <td>1.0</td>\n      <td>0.0</td>\n      <td>1.0</td>\n      <td>0.0</td>\n      <td>0.0</td>\n      <td>0.0</td>\n      <td>0.0</td>\n      <td>0.0</td>\n      <td>0.0</td>\n      <td>0.0</td>\n    </tr>\n    <tr>\n      <th>1</th>\n      <td>0.0</td>\n      <td>0.0</td>\n      <td>1.0</td>\n      <td>0.0</td>\n      <td>0.0</td>\n      <td>1.0</td>\n      <td>0.0</td>\n      <td>0.0</td>\n      <td>0.0</td>\n      <td>0.0</td>\n      <td>...</td>\n      <td>2.0</td>\n      <td>0.0</td>\n      <td>0.0</td>\n      <td>0.0</td>\n      <td>0.0</td>\n      <td>0.0</td>\n      <td>0.0</td>\n      <td>0.0</td>\n      <td>0.0</td>\n      <td>0.0</td>\n    </tr>\n    <tr>\n      <th>2</th>\n      <td>0.0</td>\n      <td>0.0</td>\n      <td>0.0</td>\n      <td>0.0</td>\n      <td>0.0</td>\n      <td>0.0</td>\n      <td>0.0</td>\n      <td>0.0</td>\n      <td>0.0</td>\n      <td>0.0</td>\n      <td>...</td>\n      <td>3.0</td>\n      <td>0.0</td>\n      <td>0.0</td>\n      <td>0.0</td>\n      <td>0.0</td>\n      <td>0.0</td>\n      <td>1.0</td>\n      <td>0.0</td>\n      <td>0.0</td>\n      <td>0.0</td>\n    </tr>\n    <tr>\n      <th>3</th>\n      <td>0.0</td>\n      <td>0.0</td>\n      <td>0.0</td>\n      <td>0.0</td>\n      <td>0.0</td>\n      <td>0.0</td>\n      <td>0.0</td>\n      <td>0.0</td>\n      <td>4.0</td>\n      <td>0.0</td>\n      <td>...</td>\n      <td>1.0</td>\n      <td>2.0</td>\n      <td>0.0</td>\n      <td>0.0</td>\n      <td>1.0</td>\n      <td>0.0</td>\n      <td>0.0</td>\n      <td>0.0</td>\n      <td>0.0</td>\n      <td>0.0</td>\n    </tr>\n    <tr>\n      <th>4</th>\n      <td>0.0</td>\n      <td>0.0</td>\n      <td>0.0</td>\n      <td>0.0</td>\n      <td>0.0</td>\n      <td>0.0</td>\n      <td>0.0</td>\n      <td>0.0</td>\n      <td>0.0</td>\n      <td>0.0</td>\n      <td>...</td>\n      <td>3.0</td>\n      <td>0.0</td>\n      <td>0.0</td>\n      <td>0.0</td>\n      <td>0.0</td>\n      <td>0.0</td>\n      <td>0.0</td>\n      <td>0.0</td>\n      <td>0.0</td>\n      <td>0.0</td>\n    </tr>\n  </tbody>\n</table>\n<p>5 rows × 4387 columns</p>\n</div>"
     },
     "metadata": {},
     "execution_count": 92
    }
   ],
   "source": [
    "D_2_p.head()"
   ]
  },
  {
   "cell_type": "markdown",
   "metadata": {},
   "source": [
    "#### cosine_sim()"
   ]
  },
  {
   "cell_type": "code",
   "execution_count": 87,
   "metadata": {},
   "outputs": [
    {
     "output_type": "execute_result",
     "data": {
      "text/plain": "array([[1.        , 0.80615005, 0.88747476, 0.87904256, 0.91196479,\n        0.88073571, 0.8812948 , 0.85963222, 0.90178938, 0.90736115],\n       [0.80615005, 1.        , 0.80668725, 0.72985478, 0.79937552,\n        0.88094688, 0.84298064, 0.85644936, 0.8124702 , 0.8408613 ],\n       [0.88747476, 0.80668725, 1.        , 0.87958999, 0.90720917,\n        0.88526296, 0.88628643, 0.86783502, 0.88373648, 0.87935021],\n       [0.87904256, 0.72985478, 0.87958999, 1.        , 0.90239427,\n        0.83029083, 0.82851727, 0.84053359, 0.87304804, 0.85825659],\n       [0.91196479, 0.79937552, 0.90720917, 0.90239427, 1.        ,\n        0.88818172, 0.89917503, 0.87895169, 0.91414904, 0.91524931],\n       [0.88073571, 0.88094688, 0.88526296, 0.83029083, 0.88818172,\n        1.        , 0.89897262, 0.90939268, 0.88764448, 0.90718348],\n       [0.8812948 , 0.84298064, 0.88628643, 0.82851727, 0.89917503,\n        0.89897262, 1.        , 0.87110924, 0.87434   , 0.88429987],\n       [0.85963222, 0.85644936, 0.86783502, 0.84053359, 0.87895169,\n        0.90939268, 0.87110924, 1.        , 0.87498755, 0.88296407],\n       [0.90178938, 0.8124702 , 0.88373648, 0.87304804, 0.91414904,\n        0.88764448, 0.87434   , 0.87498755, 1.        , 0.90200758],\n       [0.90736115, 0.8408613 , 0.87935021, 0.85825659, 0.91524931,\n        0.90718348, 0.88429987, 0.88296407, 0.90200758, 1.        ]])"
     },
     "metadata": {},
     "execution_count": 87
    }
   ],
   "source": [
    "cosine_sim(D_1, D_1)"
   ]
  },
  {
   "cell_type": "code",
   "execution_count": 93,
   "metadata": {},
   "outputs": [
    {
     "output_type": "execute_result",
     "data": {
      "text/plain": "array([[0.80705015, 0.90927475, 0.86685766, 0.89963349, 0.8141226 ,\n        0.90334921, 0.86383626, 0.91344674, 0.90719254, 0.30516084],\n       [0.8382953 , 0.79082616, 0.77364311, 0.85887172, 0.81906004,\n        0.82151366, 0.79270251, 0.79553183, 0.83638621, 0.18868023],\n       [0.83335604, 0.9006871 , 0.89995914, 0.88977115, 0.82320857,\n        0.89906938, 0.88000928, 0.91379224, 0.91735703, 0.32918104],\n       [0.78428507, 0.89691061, 0.90904971, 0.83153204, 0.7650858 ,\n        0.87293502, 0.87352753, 0.93056351, 0.8889603 , 0.36718728],\n       [0.81932258, 0.9230557 , 0.87568419, 0.90335873, 0.82712448,\n        0.92604881, 0.89557946, 0.94013639, 0.92479199, 0.32217615],\n       [0.87956105, 0.88147108, 0.86698421, 0.92957596, 0.86095904,\n        0.8978164 , 0.85870502, 0.8862511 , 0.91368787, 0.22968611],\n       [0.82657964, 0.878156  , 0.84505397, 0.90930874, 0.82963134,\n        0.91134893, 0.85632544, 0.89798014, 0.90970425, 0.2911166 ],\n       [0.89704622, 0.85398916, 0.87417183, 0.89066281, 0.87173418,\n        0.8801592 , 0.85909027, 0.87467742, 0.88197747, 0.22289068],\n       [0.82669588, 0.9043059 , 0.85760004, 0.90133361, 0.82673224,\n        0.90557608, 0.86621217, 0.90527433, 0.89900383, 0.27378744],\n       [0.84847338, 0.89095299, 0.85454687, 0.90584996, 0.8453737 ,\n        0.89119892, 0.86312293, 0.89535285, 0.90105012, 0.24850286]])"
     },
     "metadata": {},
     "execution_count": 93
    }
   ],
   "source": [
    "cosine_sim(D_1, D_2)"
   ]
  }
 ],
 "metadata": {
  "kernelspec": {
   "display_name": "Python 3",
   "language": "python",
   "name": "python3"
  },
  "language_info": {
   "codemirror_mode": {
    "name": "ipython",
    "version": 3
   },
   "file_extension": ".py",
   "mimetype": "text/x-python",
   "name": "python",
   "nbconvert_exporter": "python",
   "pygments_lexer": "ipython3",
   "version": "3.7.6-final"
  }
 },
 "nbformat": 4,
 "nbformat_minor": 2
}